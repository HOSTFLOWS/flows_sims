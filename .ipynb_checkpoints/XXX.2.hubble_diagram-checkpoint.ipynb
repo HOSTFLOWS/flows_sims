{
 "cells": [
  {
   "cell_type": "code",
   "execution_count": 1,
   "id": "6ce4f313-52bd-4cc3-8ed2-0c99876cf658",
   "metadata": {},
   "outputs": [
    {
     "name": "stdout",
     "output_type": "stream",
     "text": [
      "299792.458\n"
     ]
    }
   ],
   "source": [
    "import os\n",
    "import glob\n",
    "import numpy as np\n",
    "import pandas as pd\n",
    "import matplotlib.pyplot as plt\n",
    "\n",
    "import snpy \n",
    "\n",
    "import emcee\n",
    "import corner\n",
    "from peakutils import peak\n",
    "from scipy.optimize import minimize\n",
    "\n",
    "from astropy import units as u\n",
    "from astropy.constants import c\n",
    "from astropy.coordinates import SkyCoord\n",
    "from astropy.cosmology import FlatLambdaCDM\n",
    "\n",
    "from scipy import integrate\n",
    "from scipy.interpolate import RegularGridInterpolator\n",
    "\n",
    "%config InlineBackend.figure_format = 'retina'\n",
    "plt.rcParams[\"font.family\"] = \"GFS Artemisia\"\n",
    "plt.rcParams['mathtext.fontset'] = \"cm\"\n",
    "\n",
    "c = c.to(u.km/u.s).value  # km/s\n",
    "print(c)"
   ]
  },
  {
   "cell_type": "code",
   "execution_count": 2,
   "id": "02d96d4d-c4ad-44aa-a26a-ed24297ba42c",
   "metadata": {},
   "outputs": [
    {
     "name": "stdout",
     "output_type": "stream",
     "text": [
      "Entering reconstruction data interpolation....\n",
      "Exiting reconstruction data interpolation....\n"
     ]
    }
   ],
   "source": [
    "def sin_d(x):\n",
    "\t\"\"\" sine in degrees for convenience \"\"\"\n",
    "\treturn np.sin(x*np.pi/180.)\n",
    "\n",
    "def cos_d(x):\n",
    "\t\"\"\" cosine in degrees, for convenience \"\"\"\n",
    "\treturn np.cos(x*np.pi/180.)\n",
    "\n",
    "def dmdz(z):\n",
    "\t\"\"\" converts uncertainty in redshift to uncertainty in magnitude, for clarity\"\"\"\n",
    "\treturn 5./(np.log(10)*z)\n",
    "\n",
    "\n",
    "\"\"\" functions to correct for peculiar velocities using 2M++ velocity field (Carrick+ 2015) \"\"\"\n",
    "#params of CMB dipole w.r.t. heliocentric frame (Bennett+ 2003)\n",
    "v_helio = 371.\n",
    "l_h = 263.85 # galactic longitude\n",
    "b_h = 48.25 # galactic latitude\n",
    "\n",
    "#2M++ velocity field from Carrick et al. 2015\n",
    "velocity_field = np.load('/home/tomas/Downloads/twompp_velocity.npy')\n",
    "\n",
    "def process_reconstruction_data(box_size, Corner, N_grid):\n",
    "    '''read and interpolate density and velocity fields'''\n",
    "    print('Entering reconstruction data interpolation....')\n",
    "    l = box_size/N_grid\n",
    "\n",
    "    X = np.linspace(Corner, Corner+box_size, N_grid)\n",
    "    Y = np.linspace(Corner, Corner+box_size, N_grid)\n",
    "    Z = np.linspace(Corner, Corner+box_size, N_grid)\n",
    "\n",
    "    v_data = velocity_field\n",
    "\n",
    "    v_x_data, v_y_data, v_z_data = v_data\n",
    "\n",
    "    v_x_interp = RegularGridInterpolator((X, Y, Z), v_x_data)\n",
    "    v_y_interp = RegularGridInterpolator((X, Y, Z), v_y_data)\n",
    "    v_z_interp = RegularGridInterpolator((X, Y, Z), v_z_data)\n",
    "\n",
    "    print('Exiting reconstruction data interpolation....')\n",
    "    return [v_x_interp, v_y_interp, v_z_interp]\n",
    "\n",
    "box_size = 400.\n",
    "Corner = -200.\n",
    "N_GRID = 257\n",
    "v_field = process_reconstruction_data(box_size, Corner, N_GRID)\n",
    "\n",
    "omega_m=0.30 \n",
    "omega_k=0.   \n",
    "omega_L=0.70 \n",
    "\n",
    "def e_z_LCDM(z):\n",
    "    return (1.0/np.sqrt(omega_m*((1+z)**3)+ omega_k*((1+z)**2) + omega_L))\n",
    "    e_z_int_LCDM, e_z_int_err_LCDM = integrate.quad(e_z_LCDM,0.,z)\n",
    "\n",
    "def r_com(z):                   # We define comoving distance for flat universe in Mpc/h\n",
    "    return (c*integrate.quad(e_z_LCDM,0.,z)[0])\n",
    "\n",
    "def correct_redshift(z_hel, ez_hel, ra, dec):\n",
    "\n",
    "    #First step, transform ra dec to Galactic coordinates\n",
    "    c_icrs = SkyCoord(ra=ra*u.degree, dec=dec*u.degree, frame='icrs')\n",
    "    l=c_icrs.galactic.l.value\n",
    "    b=c_icrs.galactic.b.value\n",
    "\n",
    "    #hel to CMB frame\n",
    "    cmb_corr = v_helio/c*(sin_d(b)*sin_d(b_h)+cos_d(b)*cos_d(b_h)*cos_d(l-l_h))\n",
    "    cz_cmb = c*z_hel+cmb_corr*c\n",
    "    cz_cmb2 = c*(z_hel+ez_hel)+cmb_corr*c\n",
    "    z_cmb=cz_cmb/c\n",
    "    ez_cmb=cz_cmb2/c-z_cmb\n",
    "    \"\"\" look up velocity field to find peculiar velocity vector\n",
    "    input needs to be heliocentric position (and in degrees)\n",
    "    output is vector in galactic cartesian coordinates, in CMB frame\n",
    "    \"\"\"\n",
    "    #distance in 2M++ grid, vel/100, considering it include h\n",
    "    #The velocities are predicted peculiar velocities in the CMB frame in Galactic Cartesian coordinate\n",
    "    D2mpp=r_com(z_cmb)/100 #comoving\n",
    "    #transform l,b,D2mpp to X,Y,Z \n",
    "    c_2mpp = SkyCoord(l=l*u.degree, b=b*u.degree, frame='galactic',distance=D2mpp*u.Mpc)\n",
    "    X=c_2mpp.cartesian.x.value\n",
    "    Y=c_2mpp.cartesian.y.value\n",
    "    Z=c_2mpp.cartesian.z.value\n",
    "\n",
    "    try:\n",
    "        Vx,Vy,Vz=v_field[0]([X,Y,Z])[0],v_field[1]([X,Y,Z])[0],v_field[2]([X,Y,Z])[0]\n",
    "\n",
    "    except ValueError:\n",
    "        Vx,Vy,Vz=[0,0,0] #outside velocity field; approximate as zero\n",
    "\n",
    "    vpec = np.array([Vx, Vy, Vz])\n",
    "    #peculiar redshift\n",
    "    z_p = vpec.dot(np.array([cos_d(l)*cos_d(b),sin_d(l)*cos_d(b), sin_d(b)]))/c\n",
    "    corr_term = 1 - cmb_corr + z_p\n",
    "    z_cmb_corr=(1+z_hel)/corr_term - 1\n",
    "    #return z_hel,z_cmb,z_cmb_corr,z_p*c,D2mpp\n",
    "    return z_hel, z_cmb, ez_cmb, z_cmb_corr"
   ]
  },
  {
   "cell_type": "code",
   "execution_count": 3,
   "id": "d5011bb5-bbdb-4e7f-866c-fa548794ab81",
   "metadata": {},
   "outputs": [],
   "source": [
    "def add_corrected_z(sn_df):\n",
    "    \"\"\"Adds the CMB corrected redshift plus Carrick+2015 \n",
    "    correction.\n",
    "    \n",
    "    Parameters\n",
    "    ----------\n",
    "    sn_df: DataFrame\n",
    "        DataFrame with at least the SN redshifts and coordinates.\n",
    "        \n",
    "    Returns\n",
    "    -------\n",
    "    sn_df: DataFrame\n",
    "        DataFrame updated with SN corrected redshifts.\n",
    "    \"\"\"\n",
    "    ra = sn_df.ra.values\n",
    "    dec = sn_df.dec.values\n",
    "    z = sn_df.z.values\n",
    "    z_err = 0.001*z\n",
    "\n",
    "    corr_z_info = list(map(correct_redshift, z, z_err, ra, dec))\n",
    "    z_hel, z_cmb , z_cmb_err, z_cmb_corr = np.array(corr_z_info).T\n",
    "    \n",
    "    sn_df['z_cmb'] = np.array(z_cmb)\n",
    "    sn_df['z_cmb_err'] = np.array(z_cmb_err)\n",
    "    sn_df['z_cmb_corr'] = np.array(z_cmb_corr)\n",
    "    \n",
    "    return sn_df"
   ]
  },
  {
   "cell_type": "markdown",
   "id": "9a1cd581-89bd-418a-a27d-a56fc0b353e8",
   "metadata": {},
   "source": [
    "## grJ - max_model"
   ]
  },
  {
   "cell_type": "code",
   "execution_count": 4,
   "id": "f152ee0a-7f94-485c-95fe-a7076cf31aa1",
   "metadata": {},
   "outputs": [],
   "source": [
    "# reference sample\n",
    "ref_df = pd.read_csv('grJ_max_model.csv')\n",
    "ref_df = ref_df.sort_values('z')\n",
    "ref_df = add_corrected_z(ref_df)\n",
    "ref_df = ref_df[ref_df.z>0.01]\n",
    "\n",
    "# parameters\n",
    "z = ref_df.z_cmb_corr.values\n",
    "mag = ref_df.Jmax.values\n",
    "\n",
    "mag_err = ref_df.Jmax_err.values\n",
    "pec_err = (5/np.log(10))*(150/(c*z))\n",
    "z_err = (5/np.log(10))*(ref_df.z_cmb_err.values/z)\n",
    "err = np.sqrt(mag_err**2 + pec_err**2 + z_err**2)"
   ]
  },
  {
   "cell_type": "code",
   "execution_count": 5,
   "id": "92f1a970-f5b9-46d4-bf14-813358fdeac6",
   "metadata": {},
   "outputs": [],
   "source": [
    "def log_likelihood(theta, z, mag, err):    \n",
    "    H0, err_int = theta\n",
    "    M = -18.5\n",
    "    \n",
    "    cosmo = FlatLambdaCDM(H0=H0, Om0=0.3, Tcmb0=2.725)\n",
    "    mu_cosmo = cosmo.distmod(z).value\n",
    "    \n",
    "    mu = mag - M\n",
    "    sigma2 = err_int**2 + err**2\n",
    "    residual = -0.5 * np.sum((mu - mu_cosmo)**2 / sigma2 + np.log(2*np.pi*sigma2))\n",
    "    \n",
    "    return residual"
   ]
  },
  {
   "cell_type": "code",
   "execution_count": 6,
   "id": "01a62d43-e104-4d82-a347-0d2a6be33841",
   "metadata": {},
   "outputs": [],
   "source": [
    "args = (z, mag, err)\n",
    "\n",
    "nll = lambda *args: -log_likelihood(*args)\n",
    "p0 = np.array([75, 0.1])\n",
    "initial = p0 + 0.1*np.random.randn(len(p0))\n",
    "soln = minimize(nll, initial, args=args)"
   ]
  },
  {
   "cell_type": "code",
   "execution_count": 7,
   "id": "8d928d80-ef06-4e88-96a6-a8c47ca9a6a8",
   "metadata": {},
   "outputs": [
    {
     "name": "stdout",
     "output_type": "stream",
     "text": [
      "RMS = 0.162\n",
      "H0 = 73.007\n",
      "sig_int = 0.136\n"
     ]
    }
   ],
   "source": [
    "H0, sig_int = soln.x\n",
    "M = -18.5\n",
    "cosmo = FlatLambdaCDM(H0=H0, Om0=0.3, Tcmb0=2.725)\n",
    "res = (mag-M)-cosmo.distmod(z).value\n",
    "rms = np.sqrt(np.mean(res**2))\n",
    "\n",
    "print(f'RMS = {rms:.3f}')\n",
    "print(f'H0 = {H0:.3f}')\n",
    "print(f'sig_int = {sig_int:.3f}')"
   ]
  },
  {
   "cell_type": "markdown",
   "id": "3856f43a-6dff-4d5a-a2f7-a03d091c13b0",
   "metadata": {},
   "source": [
    "## gr - max_model"
   ]
  },
  {
   "cell_type": "code",
   "execution_count": 8,
   "id": "0ac2b913-4fa1-4f0f-8bc9-e75d60b1beb8",
   "metadata": {},
   "outputs": [],
   "source": [
    "# reference sample\n",
    "ref_df = pd.read_csv('gr_max_model.csv')\n",
    "ref_df = ref_df.sort_values('z')\n",
    "ref_df = add_corrected_z(ref_df)\n",
    "ref_df = ref_df[ref_df.z>0.01]\n",
    "\n",
    "# parameters\n",
    "z = ref_df.z_cmb_corr.values\n",
    "mag = ref_df.gmax.values\n",
    "#st = ref_df.s_gr.values \n",
    "st = ref_df.st.values  # s_BV\n",
    "\n",
    "mag_err = ref_df.gmax_err.values\n",
    "#st_err = ref_df.s_gr_err.values\n",
    "st_err = ref_df.st_err.values\n",
    "pec_err = (5/np.log(10))*(150/(c*z))\n",
    "z_err = (5/np.log(10))*(ref_df.z_cmb_err.values/z)\n",
    "err = np.sqrt(mag_err**2 + st_err**2 + pec_err**2 + z_err**2)"
   ]
  },
  {
   "cell_type": "code",
   "execution_count": 9,
   "id": "7211d2ea-1367-45e1-a286-778c5192de82",
   "metadata": {},
   "outputs": [],
   "source": [
    "def log_likelihood(theta, z, mag, st, err):    \n",
    "    H0, alpha, err_int = theta\n",
    "    M = -19\n",
    "    \n",
    "    cosmo = FlatLambdaCDM(H0=H0, Om0=0.3, Tcmb0=2.725)\n",
    "    mu_cosmo = cosmo.distmod(z).value\n",
    "    \n",
    "    mu = mag + alpha*(st-1) - M\n",
    "    sigma2 = err_int**2 + err**2\n",
    "    ref_residual = -0.5 * np.sum((mu - mu_cosmo)**2 / sigma2 + np.log(2*np.pi*sigma2))\n",
    "    \n",
    "    return ref_residual"
   ]
  },
  {
   "cell_type": "code",
   "execution_count": 10,
   "id": "08e627f0-ef50-4e07-9e6f-5ab6999e6937",
   "metadata": {},
   "outputs": [],
   "source": [
    "args = (z, mag, st, err)\n",
    "\n",
    "nll = lambda *args: -log_likelihood(*args)\n",
    "p0 = np.array([75, 1, 0.1])\n",
    "initial = p0 + 0.1*np.random.randn(len(p0))\n",
    "soln = minimize(nll, initial, args=args)"
   ]
  },
  {
   "cell_type": "code",
   "execution_count": 11,
   "id": "98a570ef-a306-485b-b081-7c501e2b11b3",
   "metadata": {},
   "outputs": [
    {
     "name": "stdout",
     "output_type": "stream",
     "text": [
      "RMS = 0.440\n",
      "H0 = 71.306\n",
      "alpha = 0.481\n",
      "sig_int = 0.434\n"
     ]
    }
   ],
   "source": [
    "H0, alpha, sig_int = soln.x\n",
    "M = -19\n",
    "cosmo = FlatLambdaCDM(H0=H0, Om0=0.3, Tcmb0=2.725)\n",
    "res = (mag + alpha*(st-1) - M)-cosmo.distmod(z).value\n",
    "rms = np.sqrt(np.mean(res**2))\n",
    "\n",
    "print(f'RMS = {rms:.3f}')\n",
    "print(f'H0 = {H0:.3f}')\n",
    "print(f'alpha = {alpha:.3f}')\n",
    "print(f'sig_int = {sig_int:.3f}')"
   ]
  },
  {
   "cell_type": "markdown",
   "id": "f73cccaa-f83b-4a4f-85e3-f5335dbdcf80",
   "metadata": {},
   "source": [
    "## gr - EBV_model2"
   ]
  },
  {
   "cell_type": "code",
   "execution_count": 12,
   "id": "debdf030-beff-4bf3-9b79-28942cfd772b",
   "metadata": {},
   "outputs": [],
   "source": [
    "# reference sample\n",
    "ref_df = pd.read_csv('gr_EBV_model2.csv')\n",
    "ref_df = ref_df.sort_values('z')\n",
    "ref_df = add_corrected_z(ref_df)\n",
    "ref_df = ref_df[ref_df.z>0.01]\n",
    "\n",
    "# parameters\n",
    "z = ref_df.z_cmb_corr.values\n",
    "mu = ref_df.mu.values\n",
    "\n",
    "mu_err = ref_df.mu_err.values\n",
    "pec_err = (5/np.log(10))*(150/(c*z))\n",
    "z_err = (5/np.log(10))*(ref_df.z_cmb_err.values/z)\n",
    "err = np.sqrt(mu_err**2 + pec_err**2 + z_err**2)"
   ]
  },
  {
   "cell_type": "code",
   "execution_count": 13,
   "id": "eb66ed45-db8a-4b23-9e8d-c298c8d3e7a1",
   "metadata": {},
   "outputs": [],
   "source": [
    "def log_likelihood(theta, z, mu, err):    \n",
    "    H0, err_int = theta\n",
    "    \n",
    "    cosmo = FlatLambdaCDM(H0=H0, Om0=0.3, Tcmb0=2.725)\n",
    "    mu_cosmo = cosmo.distmod(z).value\n",
    "    \n",
    "    sigma2 = err_int**2 + err**2\n",
    "    ref_residual = -0.5 * np.sum((mu - mu_cosmo)**2 / sigma2 + np.log(2*np.pi*sigma2))\n",
    "    \n",
    "    return ref_residual"
   ]
  },
  {
   "cell_type": "code",
   "execution_count": 14,
   "id": "c37c6571-3d09-4de9-bfe8-c6265664df32",
   "metadata": {},
   "outputs": [],
   "source": [
    "args = (z, mu, err)\n",
    "\n",
    "nll = lambda *args: -log_likelihood(*args)\n",
    "p0 = np.array([75, 0.1])\n",
    "initial = p0 + 0.1*np.random.randn(len(p0))\n",
    "soln = minimize(nll, initial, args=args)"
   ]
  },
  {
   "cell_type": "code",
   "execution_count": 15,
   "id": "7c38e954-3611-43cd-b52d-81ec409ca8d8",
   "metadata": {},
   "outputs": [
    {
     "name": "stdout",
     "output_type": "stream",
     "text": [
      "RMS = 0.186\n",
      "H0 = 73.093\n",
      "sig_int = 0.168\n"
     ]
    }
   ],
   "source": [
    "H0, sig_int = soln.x\n",
    "cosmo = FlatLambdaCDM(H0=H0, Om0=0.3, Tcmb0=2.725)\n",
    "res = mu-cosmo.distmod(z).value\n",
    "rms = np.sqrt(np.mean(res**2))\n",
    "\n",
    "print(f'RMS = {rms:.3f}')\n",
    "print(f'H0 = {H0:.3f}')\n",
    "print(f'sig_int = {sig_int:.3f}')"
   ]
  },
  {
   "cell_type": "code",
   "execution_count": null,
   "id": "8132902f-9673-41f6-a097-279e0d7b5af8",
   "metadata": {},
   "outputs": [],
   "source": []
  }
 ],
 "metadata": {
  "kernelspec": {
   "display_name": "Python 3 (ipykernel)",
   "language": "python",
   "name": "python3"
  },
  "language_info": {
   "codemirror_mode": {
    "name": "ipython",
    "version": 3
   },
   "file_extension": ".py",
   "mimetype": "text/x-python",
   "name": "python",
   "nbconvert_exporter": "python",
   "pygments_lexer": "ipython3",
   "version": "3.10.4"
  }
 },
 "nbformat": 4,
 "nbformat_minor": 5
}
