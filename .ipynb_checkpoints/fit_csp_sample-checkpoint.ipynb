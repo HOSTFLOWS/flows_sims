{
 "cells": [
  {
   "cell_type": "code",
   "execution_count": 1,
   "id": "3ffe1401-0e0c-498e-8a33-004af20339b4",
   "metadata": {},
   "outputs": [
    {
     "name": "stdout",
     "output_type": "stream",
     "text": [
      "SNooPy version: v2.6.0\n"
     ]
    }
   ],
   "source": [
    "import snpy\n",
    "import numpy as np\n",
    "import pandas as pd\n",
    "\n",
    "import os\n",
    "import glob\n",
    "\n",
    "from multiprocessing import Pool\n",
    "\n",
    "print(f'SNooPy version: v{snpy.__version__}')\n",
    "\n",
    "SNOOPY_MODEL = 'max_model'  # max_model  EBV_model2\n",
    "OUTPUT_DIR = f'fits_csp'\n",
    "PROCESSES = 8"
   ]
  },
  {
   "cell_type": "code",
   "execution_count": 5,
   "id": "d618e13f-c371-42d7-b890-1b16efdcde56",
   "metadata": {},
   "outputs": [],
   "source": [
    "def get_parameter(sn, parameter, include_sys=False):\n",
    "    \"\"\"Obtains the value of the given parameter and\n",
    "    the total (systematics + statistical) uncertainty\n",
    "    of a fitted SN.\n",
    "    \n",
    "    Parameters\n",
    "    ==========\n",
    "    sn: SNooPy object\n",
    "        SN in a SNooPy object.\n",
    "    parameter: str\n",
    "        Parameter to extract.\n",
    "    include_sys: bool\n",
    "        If `True`, systematic uncertainties are \n",
    "        included.\n",
    "        \n",
    "    Returns\n",
    "    =======\n",
    "    value: float\n",
    "        Value of the parameter.\n",
    "    err: float\n",
    "        Total uncertainty in the parameter. \n",
    "    \"\"\"\n",
    "    \n",
    "    value = sn.parameters[parameter]\n",
    "    stats_err = sn.errors[parameter]\n",
    "    if include_sys:\n",
    "        sys_err = sn.systematics()[parameter]\n",
    "    else:\n",
    "        sys_err = 0.0\n",
    "    err = np.sqrt(stats_err**2 + sys_err**2)\n",
    "    \n",
    "    return value, err"
   ]
  },
  {
   "cell_type": "code",
   "execution_count": 6,
   "id": "7e490d93-1c63-489d-b7a8-9f1cae0e3a9f",
   "metadata": {},
   "outputs": [],
   "source": [
    "def fit_sn(sn):\n",
    "    \"\"\"Fits a SN with SNooPy.\n",
    "    \n",
    "    Parameters\n",
    "    ==========\n",
    "    sn: SNooPy object\n",
    "        SN in a SNooPy object.\n",
    "\n",
    "    Returns\n",
    "    =======\n",
    "    sn object.\n",
    "    \"\"\"\n",
    "    sn.fit()\n",
    "    \n",
    "    # save object and plot\n",
    "    output_snpy = os.path.join(OUTPUT_DIR, f'{sn.name}.snpy')\n",
    "    sn.save(output_snpy)\n",
    "    output_plot = os.path.join(OUTPUT_DIR, f'{sn.name}.jpeg')\n",
    "    sn.plot(outfile=output_plot)\n",
    "    \n",
    "    return sn"
   ]
  },
  {
   "cell_type": "code",
   "execution_count": 7,
   "id": "c38931b2-ff0e-4455-a47e-b5cf9dbaacb6",
   "metadata": {},
   "outputs": [],
   "source": [
    "def full_fit(sn):\n",
    "    \"\"\"Fits a SN with `fit_sn`. The combined results \n",
    "    are saved in a single snpy file.\n",
    "    \n",
    "    Parameters\n",
    "    ==========\n",
    "    sn: SNooPy object\n",
    "        SN in a SNooPy object.\n",
    "        \n",
    "    Results\n",
    "    =======\n",
    "    sn_df: pandas DataFrame\n",
    "        Dataframe with the results of the SN. E.g.,\n",
    "        Tmax, st, etc., for the different fits. \n",
    "    \"\"\"\n",
    "    \n",
    "    sn = fit_sn(sn)\n",
    "    \n",
    "    # save results\n",
    "    Tmax, Tmax_err = get_parameter(sn, 'Tmax')\n",
    "    st, st_err = get_parameter(sn, 'st')\n",
    "    results_dict = {'name':sn.name,\n",
    "                    'z':sn.z,\n",
    "                    'Tmax':Tmax,\n",
    "                    'Tmax_err':Tmax_err,\n",
    "                    'st':st,\n",
    "                    'st_err':st_err,\n",
    "                   }\n",
    "    sn_df = pd.DataFrame(results_dict, index=[0])\n",
    "    \n",
    "    return sn_df"
   ]
  },
  {
   "cell_type": "code",
   "execution_count": 8,
   "id": "f4c0dbd6-64f9-4529-b389-babc56827811",
   "metadata": {},
   "outputs": [],
   "source": [
    "def pool_fit(sn_file):\n",
    "    '''Fits a SN with SNooPy and returns the saved results.\n",
    "    \n",
    "    Parameters\n",
    "    ==========\n",
    "    sn_file: str\n",
    "        SN file in SNooPy format.\n",
    "\n",
    "    Returns\n",
    "    =======\n",
    "    The SN's saved results in a DataFrame, if successful.\n",
    "    '''\n",
    "    \n",
    "    sn = snpy.import_lc(sn_file)\n",
    "    sn.choose_model(SNOOPY_MODEL)\n",
    "    \n",
    "    if 'K' in sn.allbands():\n",
    "        sn.data.pop('K')\n",
    "        \n",
    "    try:\n",
    "        sn_df = full_fit(sn)\n",
    "        return sn_df\n",
    "    except Exception as message:\n",
    "        print(f'Unable to fit {sn.name}: {message}')"
   ]
  },
  {
   "cell_type": "code",
   "execution_count": null,
   "id": "cc829091-d0ea-41e6-8a00-e8f7e51117f4",
   "metadata": {},
   "outputs": [
    {
     "name": "stdout",
     "output_type": "stream",
     "text": [
      "Unable to fit SN2014dn: Error:  Covariance Matrix is singular.  Either two or more parameters are degenerate or the model has become insensitive to one or more parameters.\n",
      "Unable to fit SN2006mr: All weights for filter Y are zero. The fitter is in a part of parameter space where the model is not valid or there is no useful data.\n",
      "Unable to fit SN2008cd: Error:  Covariance Matrix is singular.  Either two or more parameters are degenerate or the model has become insensitive to one or more parameters.\n",
      "Unable to fit CSP15aae: Error:  Covariance Matrix is singular.  Either two or more parameters are degenerate or the model has become insensitive to one or more parameters.\n",
      "Unable to fit SN2007N: Error:  Covariance Matrix is singular.  Either two or more parameters are degenerate or the model has become insensitive to one or more parameters.\n",
      "Unable to fit SN2007jh: All weights for filter Y are zero. The fitter is in a part of parameter space where the model is not valid or there is no useful data.\n",
      "Unable to fit SN2014ba: Error:  Covariance Matrix is singular.  Either two or more parameters are degenerate or the model has become insensitive to one or more parameters.\n"
     ]
    }
   ],
   "source": [
    "sn_files = [file for file in glob.glob('csp_data/*')]\n",
    "\n",
    "results = Pool(PROCESSES).map(pool_fit, (sn_file for sn_file in sn_files))\n",
    "\n",
    "master_df = pd.concat(results, ignore_index=True)\n",
    "master_df.to_csv(f'reference_results_csp.csv', index=False)"
   ]
  },
  {
   "cell_type": "markdown",
   "id": "c302be0a-b42b-4741-b91f-b803baedd1ef",
   "metadata": {},
   "source": [
    "Update results with missing SNe"
   ]
  },
  {
   "cell_type": "code",
   "execution_count": null,
   "id": "3cd20ffd-32c4-42c0-a346-93da8c1fb372",
   "metadata": {},
   "outputs": [],
   "source": [
    "sne_df = pd.cread_csv('reference_results_csp.csv')"
   ]
  },
  {
   "cell_type": "code",
   "execution_count": null,
   "id": "61780e0b-397a-445d-8801-a622c423b614",
   "metadata": {},
   "outputs": [],
   "source": [
    "results_dict = {}\n",
    "\n",
    "for sn_name in sne:\n",
    "    sn = snpy.import_lc(f'csp_data/{sn_name}_snpy.txt')\n",
    "    sn.choose_model(SNOOPY_MODEL)\n",
    "    \n",
    "    if 'K' in sn.allbands():\n",
    "        sn.data.pop('K')\n",
    "        \n",
    "    bands2fit = ['u', 'B', 'g', 'V', 'r', 'i']\n",
    "    sn.fit(bands2fit)\n",
    "    output_snpy = os.path.join(OUTPUT_DIR, f'{sn.name}.snpy')\n",
    "    sn.save(output_snpy)\n",
    "    output_plot = os.path.join(OUTPUT_DIR, f'{sn.name}.jpeg')\n",
    "    sn.plot(outfile=output_plot)\n",
    "        \n",
    "    Tmax, Tmax_err = get_parameter(sn, 'Tmax')\n",
    "    st, st_err = get_parameter(sn, 'st')\n",
    "    results_dict.update{'name':sn.name,\n",
    "                    'z':sn.z,\n",
    "                    'Tmax':Tmax,\n",
    "                    'Tmax_err':Tmax_err,\n",
    "                    'st':st,\n",
    "                    'st_err':st_err,\n",
    "                       }\n",
    "    \n",
    "new_df = pd.DataFrame(results_dict, index=[0])"
   ]
  }
 ],
 "metadata": {
  "kernelspec": {
   "display_name": "Python 3 (ipykernel)",
   "language": "python",
   "name": "python3"
  },
  "language_info": {
   "codemirror_mode": {
    "name": "ipython",
    "version": 3
   },
   "file_extension": ".py",
   "mimetype": "text/x-python",
   "name": "python",
   "nbconvert_exporter": "python",
   "pygments_lexer": "ipython3",
   "version": "3.10.4"
  }
 },
 "nbformat": 4,
 "nbformat_minor": 5
}
