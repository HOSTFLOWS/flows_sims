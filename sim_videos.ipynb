{
 "cells": [
  {
   "cell_type": "markdown",
   "metadata": {},
   "source": [
    "# Creating Simulations Video"
   ]
  },
  {
   "cell_type": "code",
   "execution_count": 31,
   "metadata": {},
   "outputs": [],
   "source": [
    "import re\n",
    "import os\n",
    "import cv2"
   ]
  },
  {
   "cell_type": "code",
   "execution_count": 29,
   "metadata": {},
   "outputs": [],
   "source": [
    "def natural_sort(nat_list): \n",
    "    \"\"\"Function to naturally/humanly sort a list.\n",
    "    \n",
    "    Parameters\n",
    "    ==========\n",
    "    nat_list: list\n",
    "        List to be sorted.\n",
    "        \n",
    "    Returns\n",
    "    =======\n",
    "    Naturally sorted list.\n",
    "    \"\"\"\n",
    "    convert = lambda text: int(text) if text.isdigit() else text.lower()\n",
    "    alphanum_key = lambda key: [convert(c) for c in re.split('([0-9]+)', key)]\n",
    "    \n",
    "    return sorted(nat_list, key=alphanum_key)\n",
    "\n",
    "def create_video(sn_name, n_epochs=1):\n",
    "    \"\"\"Creates a video of the simulated light curves.\n",
    "    \n",
    "    Parameters\n",
    "    ==========\n",
    "    sn_name: str\n",
    "        SN name.\n",
    "    n_epochs: int\n",
    "        Number of epochs of a given simulation set.\n",
    "    \"\"\"\n",
    "    \n",
    "    image_folder = os.path.join('sim_fits', sn_name)\n",
    "    video_name = os.path.join('sim_fits', \n",
    "                              sn_name, \n",
    "                              f'{sn_name}_{n_epochs}epochs.avi')\n",
    "    \n",
    "    images = [img for img in os.listdir(image_folder) \n",
    "                  if img.endswith(\".jpg\") and \n",
    "                  f'{n_epochs}epochs' in img]\n",
    "    images = natural_sort(images)\n",
    "    \n",
    "    frame = cv2.imread(os.path.join(image_folder, images[0]))\n",
    "    height, width, layers = frame.shape\n",
    "\n",
    "    video = cv2.VideoWriter(video_name, 0, 1, (width,height))\n",
    "    for image in images:\n",
    "        video.write(cv2.imread(os.path.join(image_folder, image)))\n",
    "\n",
    "    cv2.destroyAllWindows()\n",
    "    video.release()"
   ]
  },
  {
   "cell_type": "code",
   "execution_count": 30,
   "metadata": {},
   "outputs": [],
   "source": [
    "create_video('SN2007af')"
   ]
  }
 ],
 "metadata": {
  "kernelspec": {
   "display_name": "Python 3",
   "language": "python",
   "name": "python3"
  },
  "language_info": {
   "codemirror_mode": {
    "name": "ipython",
    "version": 3
   },
   "file_extension": ".py",
   "mimetype": "text/x-python",
   "name": "python",
   "nbconvert_exporter": "python",
   "pygments_lexer": "ipython3",
   "version": "3.6.6"
  }
 },
 "nbformat": 4,
 "nbformat_minor": 2
}
