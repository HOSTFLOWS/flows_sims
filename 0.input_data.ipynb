{
 "cells": [
  {
   "cell_type": "code",
   "execution_count": 1,
   "metadata": {},
   "outputs": [
    {
     "name": "stdout",
     "output_type": "stream",
     "text": [
      "SNooPy version: v2.6.0\n"
     ]
    }
   ],
   "source": [
    "import snpy\n",
    "import numpy as np\n",
    "\n",
    "import os\n",
    "import glob\n",
    "\n",
    "print(f'SNooPy version: v{snpy.__version__}')\n",
    "\n",
    "IN_DIR = 'S-corrected'\n",
    "OUT_DIR = 'csp_data'"
   ]
  },
  {
   "cell_type": "code",
   "execution_count": 2,
   "metadata": {},
   "outputs": [],
   "source": [
    "def save_csp_output(sn):\n",
    "    \"\"\"Creates a SNooPy input file from previously saved objects.\n",
    "    \n",
    "    Parameters\n",
    "    ==========\n",
    "    sn: SNooPy object\n",
    "        SN in a SNooPy object.\n",
    "    \"\"\"\n",
    "    \n",
    "    sn_file = os.path.join(OUT_DIR, f'{sn.name}_snpy.txt')\n",
    "    \n",
    "    with open(sn_file, 'w') as sn_output:\n",
    "        line = f'{sn.name} {sn.z:.4f} {sn.ra:.4f} {sn.decl:.4f}\\n'\n",
    "        sn_output.write(line)\n",
    "\n",
    "        for filt in sn.allbands():\n",
    "            filt_info = sn.data[filt]\n",
    "            sn_output.write(f'filter {filt}\\n')\n",
    "\n",
    "            for mjd, mag, mag_err in zip(filt_info.MJD, \n",
    "                                         filt_info.mag,\n",
    "                                        filt_info.e_mag):\n",
    "                line = f' {mjd:.3f} {mag:.3f} {mag_err:.3f}\\n'\n",
    "                sn_output.write(line)"
   ]
  },
  {
   "cell_type": "code",
   "execution_count": 3,
   "metadata": {},
   "outputs": [],
   "source": [
    "scorr_files = glob.glob(f'{IN_DIR}/*')\n",
    "\n",
    "for file in scorr_files:\n",
    "    sn = snpy.get_sn(file)\n",
    "    save_csp_output(sn)"
   ]
  },
  {
   "cell_type": "code",
   "execution_count": null,
   "metadata": {},
   "outputs": [],
   "source": []
  }
 ],
 "metadata": {
  "kernelspec": {
   "display_name": "Python 3 (ipykernel)",
   "language": "python",
   "name": "python3"
  },
  "language_info": {
   "codemirror_mode": {
    "name": "ipython",
    "version": 3
   },
   "file_extension": ".py",
   "mimetype": "text/x-python",
   "name": "python",
   "nbconvert_exporter": "python",
   "pygments_lexer": "ipython3",
   "version": "3.10.4"
  }
 },
 "nbformat": 4,
 "nbformat_minor": 4
}
