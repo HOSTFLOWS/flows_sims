{
 "cells": [
  {
   "cell_type": "markdown",
   "metadata": {},
   "source": [
    "# Sample cuts"
   ]
  },
  {
   "cell_type": "code",
   "execution_count": 1,
   "metadata": {},
   "outputs": [
    {
     "name": "stdout",
     "output_type": "stream",
     "text": [
      "SNooPy version: v2.6.0\n"
     ]
    }
   ],
   "source": [
    "import snpy\n",
    "import numpy as np\n",
    "import pandas as pd\n",
    "import matplotlib.pyplot as plt\n",
    "\n",
    "import os\n",
    "import glob\n",
    "\n",
    "%config InlineBackend.figure_format = 'retina'\n",
    "print(f'SNooPy version: v{snpy.__version__}')\n",
    "\n",
    "SNOOPY_MODEL = 'max_model'"
   ]
  },
  {
   "cell_type": "markdown",
   "metadata": {},
   "source": [
    "___"
   ]
  },
  {
   "cell_type": "code",
   "execution_count": 19,
   "metadata": {},
   "outputs": [],
   "source": [
    "def save_csp2_output(sn):\n",
    "    \"\"\"Creates a SNooPy input file from previously saved objects.\n",
    "    \n",
    "    Parameters\n",
    "    ==========\n",
    "    sn: SNooPy object\n",
    "        SN in a SNooPy object.\n",
    "    \"\"\"\n",
    "    \n",
    "    with open(f'cspii/{sn.name}_snpy.txt', 'w') as sn_output:\n",
    "        line = f'{sn.name} {sn.z:.4f} {sn.ra:.4f} {sn.decl:.4f}\\n'\n",
    "        sn_output.write(line)\n",
    "\n",
    "        for filt in sn.allbands():\n",
    "            filt_info = sn.data[filt]\n",
    "            sn_output.write(f'filter {filt}\\n')\n",
    "\n",
    "            for mjd, mag, mag_err in zip(filt_info.MJD, \n",
    "                                         filt_info.mag,\n",
    "                                        filt_info.e_mag):\n",
    "                line = f' {mjd:.3f} {mag:.3f} {mag_err:.3f}\\n'\n",
    "                sn_output.write(line)"
   ]
  },
  {
   "cell_type": "code",
   "execution_count": 21,
   "metadata": {},
   "outputs": [],
   "source": [
    "csp2_files = glob.glob('ChrisBurns/cspII/*')\n",
    "\n",
    "for file in csp2_files:\n",
    "    sn = snpy.get_sn(file)\n",
    "    save_csp2_output(sn)"
   ]
  },
  {
   "cell_type": "markdown",
   "metadata": {},
   "source": [
    "___\n",
    "## SNe with J and H bands\n",
    "\n",
    "Note that there is also **Jrc2** band. We only consider SNe with J/Jrc2 AND H bands."
   ]
  },
  {
   "cell_type": "code",
   "execution_count": 22,
   "metadata": {},
   "outputs": [],
   "source": [
    "def extract_bands(sn_file):\n",
    "    \"\"\"Reads a SN file with SNooPy format and\n",
    "    extracts the bands/filters used.\n",
    "    \n",
    "    Parameters\n",
    "    ==========\n",
    "    sn_file: str\n",
    "        SN file in SNooPy format.\n",
    "\n",
    "    Returns\n",
    "    =======\n",
    "    bands: list\n",
    "        List of bands for a given SN.\n",
    "    \"\"\"\n",
    "    \n",
    "    bands = []\n",
    "    with open(sn_file, 'r') as file:\n",
    "        for line in file:\n",
    "            if 'filter' in line:\n",
    "                band = line.split()[-1]\n",
    "                bands.append(band)\n",
    "                \n",
    "    return bands"
   ]
  },
  {
   "cell_type": "code",
   "execution_count": 23,
   "metadata": {},
   "outputs": [
    {
     "name": "stdout",
     "output_type": "stream",
     "text": [
      "SN2011jt does not have J or H bands: ['B', 'g', 'i', 'r', 'u', 'V']\n",
      "CSP13abm does not have J or H bands: ['B', 'g', 'i', 'r', 'u', 'V']\n",
      "LSQ12cda does not have J or H bands: ['B', 'g', 'i', 'r', 'V', 'Y']\n",
      "PTF14uo does not have J or H bands: ['i', 'Y', 'B', 'r', 'V']\n",
      "SN2014at does not have J or H bands: ['B', 'g', 'i', 'r', 'u', 'V']\n",
      "PTF13dwl does not have J or H bands: ['B', 'g', 'i', 'r', 'u', 'V', 'Y']\n",
      "SN2012G does not have J or H bands: ['B', 'g', 'i', 'r', 'u', 'V']\n",
      "SN2012hl does not have J or H bands: ['i', 'B', 'r', 'V']\n",
      "PTF14aaf does not have J or H bands: ['i', 'r', 'B', 'V']\n",
      "LSQ14mc does not have J or H bands: ['i', 'Y', 'B', 'r', 'V']\n",
      "CSP14aaq does not have J or H bands: ['B', 'g', 'i', 'r', 'u', 'V']\n",
      "ASAS15eb does not have J or H bands: ['B', 'g', 'i', 'r', 'u', 'V']\n",
      "LSQ13dhj does not have J or H bands: ['i', 'Y', 'r', 'B', 'V']\n",
      "PTF13ez does not have J or H bands: ['B', 'i', 'r', 'V', 'Y', 'Jrc2']\n",
      "PS1-14rx does not have J or H bands: ['B', 'i', 'r', 'V', 'Y', 'Jrc2']\n",
      "ASAS14kq does not have J or H bands: ['B', 'g', 'i', 'r', 'u', 'V', 'Y', 'Jrc2']\n",
      "CSP13aad does not have J or H bands: ['B', 'g', 'i', 'r', 'V', 'Y', 'Jrc2']\n",
      "LSQ15aae does not have J or H bands: ['B', 'g', 'i', 'r', 'u', 'V', 'Y']\n",
      "SN2014ao does not have J or H bands: ['B', 'g', 'i', 'r', 'u', 'V']\n",
      "LSQ14age does not have J or H bands: ['B', 'i', 'r', 'V', 'Y', 'Jrc2']\n",
      "LSQ15aja does not have J or H bands: ['B', 'i', 'Jrc2', 'V', 'Y', 'r']\n",
      "SN2012U does not have J or H bands: ['B', 'g', 'i', 'r', 'u', 'V']\n",
      "LSQ12gyc does not have J or H bands: ['i', 'r', 'B', 'V']\n",
      "LSQ12gxj does not have J or H bands: ['i', 'r', 'B', 'V']\n",
      "ASAS15hg does not have J or H bands: ['B', 'g', 'i', 'r', 'u', 'V', 'Y', 'Jrc2']\n",
      "CSP14ade does not have J or H bands: ['B', 'i', 'r', 'V', 'Y', 'Jrc2']\n",
      "LSQ14q does not have J or H bands: ['i', 'Y', 'B', 'r', 'V']\n",
      "LSQ13dqh does not have J or H bands: ['i', 'Y', 'B', 'r', 'V']\n",
      "LSQ12hjm does not have J or H bands: ['i', 'r', 'B', 'V']\n",
      "SN2012id does not have J or H bands: ['i', 'r', 'B', 'V']\n",
      "LSQ12gef does not have J or H bands: ['i', 'B', 'r', 'V']\n",
      "KISS13v does not have J or H bands: ['B', 'i', 'r', 'V', 'Y', 'Jrc2']\n",
      "CSP13Q does not have J or H bands: ['i', 'B', 'r', 'V']\n",
      "CSP13abs does not have J or H bands: ['B', 'i', 'r', 'V', 'Y', 'Jrc2']\n",
      "LSQ13dkp does not have J or H bands: ['B', 'i', 'r', 'V', 'Y', 'Jrc2']\n",
      "LSQ12aor does not have J or H bands: ['B', 'g', 'i', 'r', 'V', 'Y', 'Jrc2']\n",
      "LSQ12gln does not have J or H bands: ['Jrc2', 'i', 'r', 'V', 'Y', 'B']\n",
      "LSQ14act does not have J or H bands: ['B', 'i', 'r', 'V', 'Y', 'Jrc2']\n",
      "CSP15B does not have J or H bands: ['B', 'g', 'i', 'r', 'u', 'V', 'Y', 'Jrc2']\n",
      "ASAS15da does not have J or H bands: ['B', 'g', 'i', 'r', 'u', 'V']\n",
      "SN2011jn does not have J or H bands: ['Jrc2', 'g', 'i', 'r', 'u', 'V', 'Y', 'B']\n",
      "CSP12N does not have J or H bands: ['B', 'g', 'i', 'r', 'V', 'Y', 'Jrc2']\n",
      "LSQ14bjj does not have J or H bands: ['B', 'i', 'r', 'V', 'Y', 'Jrc2']\n",
      "ASAS14mf does not have J or H bands: ['B', 'g', 'i', 'r', 'u', 'V', 'Y']\n",
      "LSQ14azy does not have J or H bands: ['i', 'r', 'B', 'V']\n",
      "CSP14acl does not have J or H bands: ['B', 'g', 'i', 'r', 'u', 'V']\n",
      "KISS13j does not have J or H bands: ['B', 'i', 'r', 'V', 'Y', 'Jrc2']\n",
      "KISS13l does not have J or H bands: ['Y', 'i', 'B', 'r', 'V']\n",
      "LSQ15agh does not have J or H bands: ['i', 'Y', 'r', 'B', 'V']\n",
      "LSQ12cdl does not have J or H bands: ['B', 'g', 'i', 'r', 'V', 'Y', 'Jrc2']\n",
      "CSP13aay does not have J or H bands: ['B', 'i', 'r', 'V', 'Y', 'Jrc2']\n",
      "SN2012ah does not have J or H bands: ['B', 'g', 'i', 'r', 'u', 'V']\n",
      "PTF11ppn does not have J or H bands: ['B', 'g', 'i', 'r', 'V', 'Y', 'Jrc2']\n",
      "LSQ12hnr does not have J or H bands: ['i', 'Y', 'r', 'B', 'V']\n",
      "LSQ12ca does not have J or H bands: ['B', 'g', 'i', 'r', 'u', 'V']\n",
      "LSQ12blp does not have J or H bands: ['i', 'Y', 'r', 'Jrc2', 'g']\n",
      "LSQ14asu does not have J or H bands: ['i', 'Y', 'B', 'r', 'V']\n",
      "LSQ14ie does not have J or H bands: ['i', 'Y', 'r', 'B', 'V']\n",
      "LSQ13abo does not have J or H bands: ['B', 'i', 'r', 'V', 'Y', 'Jrc2']\n",
      "LSQ12agq does not have J or H bands: ['B', 'g', 'i', 'r', 'V', 'Y', 'Jrc2']\n",
      "LSQ14bbv does not have J or H bands: ['i', 'r', 'B', 'V']\n",
      "SN2014D does not have J or H bands: ['B', 'g', 'i', 'r', 'u', 'V']\n",
      "LSQ13dby does not have J or H bands: ['i', 'Y', 'B', 'r', 'V']\n",
      "LSQ13dcy does not have J or H bands: ['Jrc2', 'i', 'r', 'V', 'Y', 'B']\n",
      "CSP13aao does not have J or H bands: ['B', 'i', 'r', 'V', 'Y', 'Jrc2']\n",
      "LSQ14auy does not have J or H bands: ['B', 'i', 'r', 'V', 'Y', 'Jrc2']\n",
      "SN2013cg does not have J or H bands: ['B', 'g', 'i', 'r', 'u', 'V']\n",
      "CSP13V does not have J or H bands: ['B', 'i', 'r', 'V', 'Y', 'Jrc2']\n",
      "SN2012ij does not have J or H bands: ['B', 'g', 'i', 'r', 'u', 'V']\n",
      "SN2013hh does not have J or H bands: ['B', 'g', 'i', 'r', 'u', 'V']\n",
      "CSP13aaf does not have J or H bands: ['B', 'i', 'J', 'r', 'V', 'Y']\n",
      "CSP13Z does not have J or H bands: ['Jrc2', 'i', 'r', 'V', 'Y', 'B']\n",
      "CSP14acy does not have J or H bands: ['B', 'i', 'r', 'V', 'Y', 'Jrc2']\n",
      "CSP13aaq does not have J or H bands: ['B', 'i', 'J', 'r', 'V', 'Y', 'Jrc2']\n",
      "CSP12J does not have J or H bands: ['B', 'g', 'i', 'r', 'u', 'V']\n",
      "LSQ14ajn does not have J or H bands: ['B', 'g', 'i', 'r', 'u', 'V']\n",
      "PTF14fpg does not have J or H bands: ['B', 'g', 'i', 'r', 'u', 'V']\n",
      "SN2012E does not have J or H bands: ['B', 'g', 'i', 'r', 'u', 'V']\n",
      "CSP13aam does not have J or H bands: ['i', 'B', 'r', 'J', 'V']\n",
      "LSQ13aiz does not have J or H bands: ['B', 'g', 'i', 'r', 'u', 'V']\n",
      "LSQ14fms does not have J or H bands: ['B', 'i', 'r', 'V', 'Y', 'Jrc2']\n",
      "PTF13anh does not have J or H bands: ['i', 'Y', 'B', 'r', 'V']\n",
      "SN2013ct does not have J or H bands: ['B', 'g', 'i', 'r', 'u', 'V']\n",
      "ASAS14lo does not have J or H bands: ['B', 'g', 'i', 'r', 'u', 'V', 'Y']\n",
      "LSQ12gzm does not have J or H bands: ['i', 'r', 'B', 'V']\n",
      "85 SNe without J or H bands.\n"
     ]
    }
   ],
   "source": [
    "sn_files = [file for file in glob.glob('cspii/*.txt')]\n",
    "\n",
    "count = 0\n",
    "with open('sne_wo_JorH_cspii.txt', 'w') as fout:\n",
    "    for sn_file in sn_files:\n",
    "        file_basename = sn_file.split('/')[-1]\n",
    "        sn_name = file_basename.split('_')[0]\n",
    "        \n",
    "        bands = extract_bands(sn_file)\n",
    "\n",
    "        if (('J' not in bands) & ('Jrc2' not in bands)) or ('H' not in bands):\n",
    "            print(f'{sn_name} does not have J or H bands: {bands}')\n",
    "            bands_str = ''.join(band+'-' for band in bands)[:-1]\n",
    "            fout.write(f'{sn_name} \\t{bands_str}\\n')\n",
    "            count += 1\n",
    "            \n",
    "print(f'{count} SNe without J or H bands.')        "
   ]
  },
  {
   "cell_type": "markdown",
   "metadata": {},
   "source": [
    "## SNe with coverage around optical peak\n",
    "\n",
    "First we remove those SNe without J or H bands found above.\n",
    "To have \"good\" coverage of the optical peak, we requiere to have at least one data point 2 days before B band maximum in observed B g, or r bands."
   ]
  },
  {
   "cell_type": "code",
   "execution_count": null,
   "metadata": {},
   "outputs": [
    {
     "name": "stdout",
     "output_type": "stream",
     "text": [
      "Fitting 130 SNe (85 from 215 CSP SNe removed using cuts)\n",
      "ASAS15dd does not have coverage before B max\n",
      "SN2013bc does not have coverage before B max\n",
      "SN2013hn does not have coverage before B max\n",
      "SN2013az does not have coverage before B max\n",
      "ASAS15al does not have coverage before B max\n",
      "PS1-14ra does not have coverage before B max\n"
     ]
    },
    {
     "name": "stderr",
     "output_type": "stream",
     "text": [
      "/home/tomas/anaconda3/lib/python3.6/site-packages/snpy/model.py:313: RuntimeWarning: overflow encountered in power\n",
      "  cov_f = power(f*err/1.0857,2)\n"
     ]
    },
    {
     "name": "stdout",
     "output_type": "stream",
     "text": [
      "Unable to fit SN2014dn: Error:  Covariance Matrix is singular.  Either two or more parameters are degenerate or the model has become insensitive to one or more parameters.\n",
      "CSP13N does not have coverage before B max\n",
      "LSQ12fuk does not have coverage before B max\n",
      "ASAS15fr does not have coverage before B max\n",
      "LSQ13pf does not have coverage before B max\n",
      "PTF11pra does not have coverage before B max\n",
      "ASAS14jg does not have coverage before B max\n",
      "SN2013ay does not have coverage before B max\n",
      "LSQ11bk does not have coverage before B max\n",
      "CSP13af does not have coverage before B max\n",
      "Unable to fit CSP15aae: Error:  Covariance Matrix is singular.  Either two or more parameters are degenerate or the model has become insensitive to one or more parameters.\n"
     ]
    }
   ],
   "source": [
    "# SNe to remove\n",
    "df = pd.read_csv('sne_wo_JorH_cspii.txt', names=['name', 'bands'], delim_whitespace=True)\n",
    "files2remove = [f'cspii/{name}_snpy.txt' for name in df.name.values]\n",
    "\n",
    "sn_files = [file for file in glob.glob('cspii/*.txt') if file not in files2remove]\n",
    "print(f'Fitting {len(sn_files)} SNe ({len(files2remove)} from {len(csp2_files)} CSP SNe removed using cuts)')\n",
    "\n",
    "count = 0\n",
    "failed_count = 0\n",
    "with open('sne_wo_opt_max_cspii.txt', 'w') as fout:\n",
    "    for sn_file in sn_files:\n",
    "        sn = snpy.import_lc(sn_file)\n",
    "        \n",
    "        # remove bands with no photometry (no idea why they are empty)\n",
    "        for band in sn.allbands():\n",
    "            band_mag = sn.data[band].magnitude\n",
    "            if len(band_mag)==0:\n",
    "                sn.data.pop(band)\n",
    "\n",
    "        try:\n",
    "            sn.choose_model(SNOOPY_MODEL)\n",
    "            sn.fit()\n",
    "        except Exception as message:\n",
    "            print(f'Unable to fit {sn.name}: {message}')\n",
    "            fout.write(f'{sn.name} \\tfit-failed\\n')\n",
    "            failed_count += 1\n",
    "            continue  # skip this SN\n",
    "\n",
    "        # check if there is optical coverage before B max\n",
    "        opt_peak_covered = False\n",
    "        for band in sn.allbands():\n",
    "            if band in ['B', 'g', 'r']:\n",
    "                times = sn.data[band].get_t()  # observed epochs\n",
    "                # we require data at least 2 days before optical peak\n",
    "                if np.any(times<=-2):\n",
    "                    opt_peak_covered = True\n",
    "                    break\n",
    "\n",
    "        # save the plots of the SNe w/o optical peak coverage\n",
    "        if not opt_peak_covered:\n",
    "            print(f'{sn.name} does not have coverage before B max')\n",
    "            fout.write(f'{sn.name} \\tno-peak-coverage\\n')\n",
    "\n",
    "            #sn.save(f'opt_cuts_fits/{sn.name}.snpy')\n",
    "            sn.plot(outfile=f'opt_cuts_fits/{sn.name}.jpeg')\n",
    "            count += 1\n",
    "            \n",
    "print(f'{count} SNe without optical peak coverage and {failed_count} with failed fits.')"
   ]
  },
  {
   "cell_type": "markdown",
   "metadata": {},
   "source": [
    "There are two main errors when the fits fail:\n",
    "        \n",
    "1) `RuntimeError: Error:  Covariance Matrix is singular. Either two or more parameters are degenerate or the model has become insensitive to one or more parameters.`\n",
    "\n",
    "2) `RuntimeError: All weights for filter H are zero. The fitter is in a part of parameter space where the model is not valid or there is no useful data.` (for different filters)\n",
    "\n",
    "## SNe w/o NIR peak coverage\n",
    "\n",
    "We need to remove those SNe without J or H bands + those without optical peak coverage first."
   ]
  },
  {
   "cell_type": "code",
   "execution_count": null,
   "metadata": {},
   "outputs": [],
   "source": [
    "# SNe to remove\n",
    "df1 = pd.read_csv('sne_wo_JorH_cspii.txt', names=['name', 'bands'], delim_whitespace=True)\n",
    "df2 = pd.read_csv('sne_wo_opt_max_cspii.txt', names=['name', 'comment'], delim_whitespace=True)\n",
    "del_df = pd.concat([df1, df2])\n",
    "files2remove = [f'cspii/{name}_snpy.txt' for name in list(del_df.name.values)]\n",
    "\n",
    "sn_files = [file for file in glob.glob('cspii/*.txt') if file not in files2remove]\n",
    "print(f'Fitting {len(sn_files)} SNe ({len(files2remove)} from {len(csp2_files)} CSP SNe removed using cuts)')\n",
    "\n",
    "count = 0\n",
    "failed_count = 0\n",
    "with open('sne_wo_nir_max_cspii.txt', 'w') as fout:\n",
    "    for sn_file in sn_files:\n",
    "        sn = snpy.import_lc(sn_file)\n",
    "\n",
    "        try:\n",
    "            sn.choose_model(SNOOPY_MODEL)\n",
    "            sn.fit()\n",
    "        except Exception as message:\n",
    "            print(f'Unable to fit {sn.name}: {message}')\n",
    "            fout.write(f'{sn.name} \\tfit-failed\\n')\n",
    "            failed_count += 1\n",
    "            continue  # skip this SN\n",
    "\n",
    "        # check if there is NIR coverage before NIR max\n",
    "        nir_peak_covered = False\n",
    "        for band in sn.allbands():\n",
    "            if band in ['J', 'Jrc2', 'H']:\n",
    "                \n",
    "                model_times = np.arange(sn.Tmax-20, sn.Tmax+40)\n",
    "                model_mag, _, mask = sn.model(band, model_times)\n",
    "                model_phases  = model_times[mask]-sn.Tmax \n",
    "                model_mag = model_mag[mask]\n",
    "                \n",
    "                phases = sn.data[band].get_t()  # observed phases wrt Tmax\n",
    "                first_epoch = phases[0]  # phase of first epoch\n",
    "                \n",
    "                peak_model_id = np.argmin(model_mag)\n",
    "                peak_model_phase = model_phases[peak_model_id]\n",
    "\n",
    "                if first_epoch<peak_model_phase:\n",
    "                    nir_peak_covered = True\n",
    "                    break\n",
    "\n",
    "        # save the plots of the SNe w/o optical peak coverage\n",
    "        if not nir_peak_covered:\n",
    "            print(f'{sn.name} does not have coverage before NIR max')\n",
    "            fout.write(f'{sn.name} \\tno-peak-coverage\\n')\n",
    "\n",
    "            #sn.save(f'nir_cuts_fits/{sn.name}.snpy')\n",
    "            sn.plot(outfile=f'nir_cuts_fits/{sn.name}.jpeg')\n",
    "            count += 1\n",
    "\n",
    "print(f'{count} SNe without NIR peak coverage and {failed_count} with failed fits.')"
   ]
  },
  {
   "cell_type": "markdown",
   "metadata": {},
   "source": [
    "### save reference files"
   ]
  },
  {
   "cell_type": "code",
   "execution_count": null,
   "metadata": {},
   "outputs": [],
   "source": [
    "# SNe to remove\n",
    "df1 = pd.read_csv('sne_wo_JorH_cspii.txt', names=['name', 'bands'], delim_whitespace=True)\n",
    "df2 = pd.read_csv('sne_wo_opt_max_cspii.txt', names=['name', 'comment'], delim_whitespace=True)\n",
    "df3 = pd.read_csv('sne_wo_nir_max_cspii.txt', names=['name', 'comment'], delim_whitespace=True)\n",
    "del_df = pd.concat([df1, df2, df3])\n",
    "files2remove = [f'cspii/{name}_snpy.txt' for name in list(del_df.name.values)]\n",
    "\n",
    "sn_files = [file for file in glob.glob('cspii/*.txt') if file not in files2remove]\n",
    "print(f'Fitting {len(sn_files)} SNe ({len(files2remove)} from {len(csp2_files)} CSP SNe removed using cuts)')\n",
    "\n",
    "# save reference files into an output file\n",
    "with open('reference_files_cspii.txt', 'w') as outfile:\n",
    "    for sn_file in sn_files:\n",
    "        outfile.write(sn_file + '\\n')"
   ]
  },
  {
   "cell_type": "code",
   "execution_count": null,
   "metadata": {},
   "outputs": [],
   "source": []
  }
 ],
 "metadata": {
  "kernelspec": {
   "display_name": "Python 3",
   "language": "python",
   "name": "python3"
  },
  "language_info": {
   "codemirror_mode": {
    "name": "ipython",
    "version": 3
   },
   "file_extension": ".py",
   "mimetype": "text/x-python",
   "name": "python",
   "nbconvert_exporter": "python",
   "pygments_lexer": "ipython3",
   "version": "3.6.6"
  }
 },
 "nbformat": 4,
 "nbformat_minor": 2
}
